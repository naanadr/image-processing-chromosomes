{
 "cells": [
  {
   "cell_type": "code",
   "execution_count": 1,
   "metadata": {},
   "outputs": [],
   "source": [
    "import cv2\n",
    "import matplotlib.pyplot as plt\n",
    "import numpy as np\n",
    "from pathlib import Path"
   ]
  },
  {
   "cell_type": "markdown",
   "metadata": {},
   "source": [
    "### Originals image path"
   ]
  },
  {
   "cell_type": "code",
   "execution_count": 2,
   "metadata": {},
   "outputs": [],
   "source": [
    "path = Path('database/originals')\n",
    "files = [file for file in path.iterdir() if file.is_file()]"
   ]
  },
  {
   "cell_type": "markdown",
   "metadata": {},
   "source": [
    "## Segmentação Otsu"
   ]
  },
  {
   "cell_type": "code",
   "execution_count": 3,
   "metadata": {},
   "outputs": [],
   "source": [
    "OTSU_path = 'tests/otsu_original'\n",
    "Path(OTSU_path).mkdir(parents=True, exist_ok=True)"
   ]
  },
  {
   "cell_type": "code",
   "execution_count": 4,
   "metadata": {},
   "outputs": [],
   "source": [
    "for file in files:\n",
    "    image = cv2.imread(str(file), 0)\n",
    "    name = file.name.split('.')[0]\n",
    "\n",
    "    _, otsu = cv2.threshold(image, 0, 255,\n",
    "                            cv2.THRESH_BINARY_INV+cv2.THRESH_OTSU)\n",
    "    \n",
    "    cv2.imwrite(OTSU_path + '/' + name + '.jpg', otsu)"
   ]
  },
  {
   "cell_type": "markdown",
   "metadata": {},
   "source": [
    "## Segmentação padrão"
   ]
  },
  {
   "cell_type": "code",
   "execution_count": 5,
   "metadata": {},
   "outputs": [],
   "source": [
    "SEG_norm = 'tests/segme_original'\n",
    "Path(SEG_norm).mkdir(parents=True, exist_ok=True)"
   ]
  },
  {
   "cell_type": "code",
   "execution_count": 6,
   "metadata": {},
   "outputs": [],
   "source": [
    "for file in files:\n",
    "    image = cv2.imread(str(file), 0)\n",
    "    name = file.name.split('.')[0]\n",
    "\n",
    "    _, thresh = cv2.threshold(image, 127, 255, cv2.THRESH_BINARY_INV)\n",
    "    \n",
    "    cv2.imwrite(SEG_norm + '/' + name + '.jpg', thresh)"
   ]
  },
  {
   "cell_type": "markdown",
   "metadata": {},
   "source": [
    "## Segmentação Adaptativa"
   ]
  },
  {
   "cell_type": "code",
   "execution_count": 7,
   "metadata": {},
   "outputs": [],
   "source": [
    "ADAP_path = 'tests/adap_original'\n",
    "Path(ADAP_path).mkdir(parents=True, exist_ok=True)"
   ]
  },
  {
   "cell_type": "code",
   "execution_count": 8,
   "metadata": {},
   "outputs": [],
   "source": [
    "for file in files:\n",
    "    image = cv2.imread(str(file), 0)\n",
    "    name = file.name.split('.')[0]\n",
    "\n",
    "    adap = cv2.adaptiveThreshold(image,255,cv2.ADAPTIVE_THRESH_MEAN_C,\\\n",
    "                                 cv2.THRESH_BINARY_INV,17,3)\n",
    "    \n",
    "    cv2.imwrite(ADAP_path + '/' + name + '.jpg', adap)"
   ]
  },
  {
   "cell_type": "code",
   "execution_count": 9,
   "metadata": {},
   "outputs": [],
   "source": [
    "ADAP_path = 'tests/adap_original_pos_processado'\n",
    "Path(ADAP_path).mkdir(parents=True, exist_ok=True)"
   ]
  },
  {
   "cell_type": "code",
   "execution_count": 10,
   "metadata": {},
   "outputs": [],
   "source": [
    "for file in files:\n",
    "    image = cv2.imread(str(file), 0)\n",
    "    name = file.name.split('.')[0]\n",
    "\n",
    "    adap = cv2.adaptiveThreshold(image,255,cv2.ADAPTIVE_THRESH_MEAN_C,\\\n",
    "                                 cv2.THRESH_BINARY_INV,17,3)\n",
    "    \n",
    "    kernel = np.ones((11, 11), np.uint8) \n",
    "    adap = cv2.dilate(adap, kernel, iterations=1) \n",
    "    \n",
    "    kernel = np.ones((5,5), np.uint8)\n",
    "    adap = cv2.erode(adap, kernel, iterations=1)\n",
    "\n",
    "    cnts,_ = cv2.findContours(adap, 1, 2)\n",
    "    \n",
    "    cp = image.copy()\n",
    "    adap_cp = adap.copy()\n",
    "    \n",
    "    for cnt in cnts:\n",
    "        area = cv2.contourArea(cnt)\n",
    "        \n",
    "        if area < 500:\n",
    "            rect = cv2.minAreaRect(cnt)\n",
    "            box = cv2.boxPoints(rect)\n",
    "            box = np.int0(box)\n",
    "            cp = cv2.drawContours(cp, [box], 0, (0,0,255), 2)\n",
    "            adap_cp = cv2.drawContours(adap_cp, [box],-1,(0,0,0), thickness=-1)\n",
    "    \n",
    "    cv2.imwrite(ADAP_path + '/' + name + '.jpg', adap_cp)\n",
    "#     cv2.imwrite(ADAP_path + '/cp_' + name + '.jpg', cp)"
   ]
  },
  {
   "cell_type": "code",
   "execution_count": null,
   "metadata": {},
   "outputs": [],
   "source": []
  }
 ],
 "metadata": {
  "kernelspec": {
   "display_name": "Python 3",
   "language": "python",
   "name": "python3"
  },
  "language_info": {
   "codemirror_mode": {
    "name": "ipython",
    "version": 3
   },
   "file_extension": ".py",
   "mimetype": "text/x-python",
   "name": "python",
   "nbconvert_exporter": "python",
   "pygments_lexer": "ipython3",
   "version": "3.7.4"
  }
 },
 "nbformat": 4,
 "nbformat_minor": 2
}

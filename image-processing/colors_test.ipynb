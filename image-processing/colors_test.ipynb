{
 "cells": [
  {
   "cell_type": "code",
   "execution_count": 1,
   "metadata": {},
   "outputs": [],
   "source": [
    "import cv2\n",
    "import matplotlib.pyplot as plt\n",
    "import numpy as np\n",
    "from pathlib import Path"
   ]
  },
  {
   "cell_type": "markdown",
   "metadata": {},
   "source": [
    "### Originals image path"
   ]
  },
  {
   "cell_type": "code",
   "execution_count": 2,
   "metadata": {},
   "outputs": [],
   "source": [
    "path = Path('database/originals')"
   ]
  },
  {
   "cell_type": "markdown",
   "metadata": {},
   "source": [
    "### HSV, YCrCb and LAB paths "
   ]
  },
  {
   "cell_type": "code",
   "execution_count": 3,
   "metadata": {},
   "outputs": [],
   "source": [
    "HSV_path = 'tests/HSV'\n",
    "Path(HSV_path).mkdir(parents=True, exist_ok=True)\n",
    "\n",
    "YCrCb_path = 'tests/YCrCb'\n",
    "Path(YCrCb_path).mkdir(parents=True, exist_ok=True)\n",
    "\n",
    "LAB_path = 'tests/LAB'\n",
    "Path(LAB_path).mkdir(parents=True, exist_ok=True)\n",
    "\n",
    "RGB_path = 'tests/RGB'\n",
    "Path(RGB_path).mkdir(parents=True, exist_ok=True)"
   ]
  },
  {
   "cell_type": "markdown",
   "metadata": {},
   "source": [
    "### Convert BGR images to HSV/YCrCb/LAB "
   ]
  },
  {
   "cell_type": "code",
   "execution_count": 4,
   "metadata": {},
   "outputs": [],
   "source": [
    "def other_colors(file, HSV_path, YCrCb_path, LAB_path, RGB_path): \n",
    "    image = cv2.imread(file.__str__())\n",
    "    \n",
    "    hsv = cv2.cvtColor(image, cv2.COLOR_BGR2HSV)\n",
    "    ycrcb = cv2.cvtColor(image, cv2.COLOR_BGR2YCrCb)\n",
    "    lab = cv2.cvtColor(image, cv2.COLOR_BGR2LAB)\n",
    "\n",
    "    cv2.imwrite(HSV_path + '/' + file.name, hsv)\n",
    "    cv2.imwrite(YCrCb_path + '/' + file.name, ycrcb)\n",
    "    cv2.imwrite(LAB_path + '/' + file.name, lab)\n",
    "    \n",
    "    name = file.name.split('.')[0]\n",
    "    \n",
    "    h, s, v = cv2.split(hsv)\n",
    "    cv2.imwrite(HSV_path + '/' + name + '_h.jpg', h)\n",
    "    cv2.imwrite(HSV_path + '/' + name + '_s.jpg', s)\n",
    "    cv2.imwrite(HSV_path + '/' + name + '_v.jpg', v)\n",
    "\n",
    "    y, cr, cb = cv2.split(ycrcb)\n",
    "    cv2.imwrite(YCrCb_path + '/' + name + '_y.jpg', y)\n",
    "    cv2.imwrite(YCrCb_path + '/' + name + '_cr.jpg', cr)\n",
    "    cv2.imwrite(YCrCb_path + '/' + name + '_cb.jpg', cb)\n",
    "\n",
    "    l, a, b = cv2.split(ycrcb)\n",
    "    cv2.imwrite(LAB_path + '/' + name + '_l.jpg', l)\n",
    "    cv2.imwrite(LAB_path + '/' + name + '_a.jpg', a)\n",
    "    cv2.imwrite(LAB_path + '/' + name + '_b.jpg', b)\n",
    "    \n",
    "    b, g, r = cv2.split(image)\n",
    "    cv2.imwrite(RGB_path + '/' + name + '_b.jpg', b)\n",
    "    cv2.imwrite(RGB_path + '/' + name + '_g.jpg', g)\n",
    "    cv2.imwrite(RGB_path + '/' + name + '_r.jpg', r)\n"
   ]
  },
  {
   "cell_type": "code",
   "execution_count": 5,
   "metadata": {},
   "outputs": [],
   "source": [
    "files = [file for file in path.iterdir() if file.is_file()]"
   ]
  },
  {
   "cell_type": "code",
   "execution_count": 6,
   "metadata": {},
   "outputs": [],
   "source": [
    "for file in files:\n",
    "    other_colors(file, HSV_path, YCrCb_path, LAB_path, RGB_path)"
   ]
  },
  {
   "cell_type": "markdown",
   "metadata": {},
   "source": [
    "### Changing the contrast and brightness of the image - OP 1\n",
    "\n",
    "Ref:\n",
    "- https://docs.opencv.org/3.4/d3/dc1/tutorial_basic_linear_transform.html\n",
    "- https://docs.opencv.org/2.4/modules/core/doc/operations_on_arrays.html#convertscaleabs"
   ]
  },
  {
   "cell_type": "code",
   "execution_count": 7,
   "metadata": {},
   "outputs": [],
   "source": [
    "LAB_contraste_lum_path = 'tests/LAB_contraste_luminosidade'\n",
    "Path(LAB_contraste_lum_path).mkdir(parents=True, exist_ok=True)\n",
    "\n",
    "RGB_contraste_lum_path = 'tests/RGB_contraste_luminosidade'\n",
    "Path(RGB_contraste_lum_path).mkdir(parents=True, exist_ok=True)"
   ]
  },
  {
   "cell_type": "code",
   "execution_count": 43,
   "metadata": {},
   "outputs": [],
   "source": [
    "alpha = 1.5 # Contrast control (1.0-3.0)\n",
    "beta = -80 # Brightness control (0-100)\n",
    "\n",
    "for file in files:\n",
    "    image = cv2.imread(file.__str__())\n",
    "    name = file.name.split('.')[0]\n",
    "    \n",
    "    lab= cv2.cvtColor(image, cv2.COLOR_BGR2LAB)\n",
    "    l, a, b = cv2.split(lab)\n",
    "    \n",
    "    lnew = cv2.convertScaleAbs(l, alpha=alpha, beta=beta)\n",
    "    \n",
    "    limg = cv2.merge((lnew,a,b))\n",
    "    cv2.imwrite(LAB_contraste_lum_path + '/' + name + '_l.jpg', lnew)\n",
    "    cv2.imwrite(LAB_contraste_lum_path + '/' + name + '.jpg', limg)\n",
    "    \n",
    "    final = cv2.cvtColor(limg, cv2.COLOR_LAB2BGR)\n",
    "    cv2.imwrite(RGB_contraste_lum_path + '/' + name + '.jpg', final)\n",
    "    \n",
    "    b, g, r = cv2.split(final)\n",
    "    cv2.imwrite(RGB_contraste_lum_path + '/' + name + '_b.jpg', b)\n",
    "    cv2.imwrite(RGB_contraste_lum_path + '/' + name + '_g.jpg', g)\n",
    "    cv2.imwrite(RGB_contraste_lum_path + '/' + name + '_r.jpg', r)"
   ]
  },
  {
   "cell_type": "markdown",
   "metadata": {},
   "source": [
    "### Changing the contrast of the image - OP 2\n",
    "Ref https://stackoverflow.com/a/41075028"
   ]
  },
  {
   "cell_type": "code",
   "execution_count": 8,
   "metadata": {},
   "outputs": [],
   "source": [
    "LAB_contraste_path = 'tests/LAB_contraste'\n",
    "Path(LAB_contraste_path).mkdir(parents=True, exist_ok=True)\n",
    "\n",
    "RGB_contraste_path = 'tests/RGB_contraste'\n",
    "Path(RGB_contraste_path).mkdir(parents=True, exist_ok=True)"
   ]
  },
  {
   "cell_type": "code",
   "execution_count": 36,
   "metadata": {},
   "outputs": [],
   "source": [
    "for file in files:\n",
    "    image = cv2.imread(file.__str__())\n",
    "    name = file.name.split('.')[0]\n",
    "    \n",
    "    lab= cv2.cvtColor(image, cv2.COLOR_BGR2LAB)\n",
    "    l, a, b = cv2.split(lab)\n",
    "    \n",
    "    clahe = cv2.createCLAHE(clipLimit=3.0, tileGridSize=(8,8))\n",
    "    cl = clahe.apply(l)\n",
    "    \n",
    "    #-----Merge the CLAHE enhanced L-channel with the a and b channel-----------\n",
    "    limg = cv2.merge((cl,a,b))\n",
    "    cv2.imwrite(LAB_contraste_path + '/' + name + '_l.jpg', cl)\n",
    "    cv2.imwrite(LAB_contraste_path + '/' + name + '.jpg', limg)\n",
    "    \n",
    "    final = cv2.cvtColor(limg, cv2.COLOR_LAB2BGR)\n",
    "    cv2.imwrite(RGB_contraste_path + '/' + name + '.jpg', final)\n",
    "    \n",
    "    b, g, r = cv2.split(final)\n",
    "    cv2.imwrite(RGB_contraste_path + '/' + name + '_b.jpg', b)\n",
    "    cv2.imwrite(RGB_contraste_path + '/' + name + '_g.jpg', g)\n",
    "    cv2.imwrite(RGB_contraste_path + '/' + name + '_r.jpg', r)"
   ]
  },
  {
   "cell_type": "markdown",
   "metadata": {},
   "source": [
    "### Get LAB images"
   ]
  },
  {
   "cell_type": "code",
   "execution_count": 9,
   "metadata": {},
   "outputs": [],
   "source": [
    "LAB_thresh_path = 'tests/LAB_thresh'\n",
    "Path(LAB_thresh_path).mkdir(parents=True, exist_ok=True)"
   ]
  },
  {
   "cell_type": "markdown",
   "metadata": {},
   "source": [
    "LAB with higer contrast"
   ]
  },
  {
   "cell_type": "code",
   "execution_count": 10,
   "metadata": {},
   "outputs": [],
   "source": [
    "path_lab = Path(LAB_contraste_lum_path)"
   ]
  },
  {
   "cell_type": "code",
   "execution_count": 11,
   "metadata": {},
   "outputs": [],
   "source": [
    "files_lab = [file for file in path_lab.iterdir() if file.is_file() and '_' not in file.name]"
   ]
  },
  {
   "cell_type": "markdown",
   "metadata": {},
   "source": [
    "### With the LAB image to threshold"
   ]
  },
  {
   "cell_type": "code",
   "execution_count": 19,
   "metadata": {},
   "outputs": [],
   "source": [
    "for file in files_lab:\n",
    "    image = cv2.imread(file.__str__().replace('.jpg', '_l.jpg'))\n",
    "    \n",
    "    result_gray = cv2.cvtColor(image, cv2.COLOR_BGR2GRAY)\n",
    "\n",
    "    _,thresh = cv2.threshold(result_gray,0,255,cv2.THRESH_BINARY_INV+cv2.THRESH_OTSU)\n",
    "    cv2.imwrite(LAB_thresh_path + '/' + file.name, thresh)\n",
    "    \n",
    "    cnts,_ = cv2.findContours(thresh, 1, 2)\n",
    "    \n",
    "    cp = image.copy()\n",
    "    \n",
    "    for cnt in cnts:\n",
    "        area = cv2.contourArea(cnt)\n",
    "        \n",
    "        if area > 10 and area < 20000:\n",
    "            rect = cv2.minAreaRect(cnt)\n",
    "            box = cv2.boxPoints(rect)\n",
    "            box = np.int0(box)\n",
    "            cp = cv2.drawContours(cp, [box],0,(0,0,255),2)\n",
    "            \n",
    "    cv2.imwrite(LAB_thresh_path + '/cp_' + file.name, cp)"
   ]
  },
  {
   "cell_type": "markdown",
   "metadata": {},
   "source": [
    "### Get RGB images"
   ]
  },
  {
   "cell_type": "code",
   "execution_count": 13,
   "metadata": {},
   "outputs": [],
   "source": [
    "RGB_thresh_path = 'tests/RGB_thresh'\n",
    "Path(RGB_thresh_path).mkdir(parents=True, exist_ok=True)"
   ]
  },
  {
   "cell_type": "code",
   "execution_count": 14,
   "metadata": {},
   "outputs": [],
   "source": [
    "path_rgb = Path(RGB_contraste_path)"
   ]
  },
  {
   "cell_type": "code",
   "execution_count": 15,
   "metadata": {},
   "outputs": [],
   "source": [
    "files_rgb = [file for file in path_rgb.iterdir() if file.is_file() and '_' not in file.name]"
   ]
  },
  {
   "cell_type": "markdown",
   "metadata": {},
   "source": [
    "### With RGB images"
   ]
  },
  {
   "cell_type": "code",
   "execution_count": 18,
   "metadata": {},
   "outputs": [],
   "source": [
    "for file in files_rgb:\n",
    "    image = cv2.imread(file.__str__().replace('.jpg', '_g.jpg'))\n",
    "    \n",
    "    result_gray = cv2.cvtColor(image, cv2.COLOR_BGR2GRAY)\n",
    "\n",
    "    _,thresh = cv2.threshold(result_gray,0,255,cv2.THRESH_BINARY_INV+cv2.THRESH_OTSU)\n",
    "    cv2.imwrite(RGB_thresh_path + '/' + file.name, thresh)\n",
    "    \n",
    "    cnts,_ = cv2.findContours(thresh, 1, 2)\n",
    "    \n",
    "    cp = image.copy()\n",
    "    \n",
    "    for cnt in cnts:\n",
    "        area = cv2.contourArea(cnt)\n",
    "        \n",
    "        if area > 10 and area < 20000:\n",
    "            rect = cv2.minAreaRect(cnt)\n",
    "            box = cv2.boxPoints(rect)\n",
    "            box = np.int0(box)\n",
    "            cp = cv2.drawContours(cp, [box],0,(0,0,255),2)\n",
    "            \n",
    "    cv2.imwrite(RGB_thresh_path + '/cp_' + file.name, cp)"
   ]
  }
 ],
 "metadata": {
  "kernelspec": {
   "display_name": "Python 3",
   "language": "python",
   "name": "python3"
  },
  "language_info": {
   "codemirror_mode": {
    "name": "ipython",
    "version": 3
   },
   "file_extension": ".py",
   "mimetype": "text/x-python",
   "name": "python",
   "nbconvert_exporter": "python",
   "pygments_lexer": "ipython3",
   "version": "3.7.4"
  }
 },
 "nbformat": 4,
 "nbformat_minor": 2
}

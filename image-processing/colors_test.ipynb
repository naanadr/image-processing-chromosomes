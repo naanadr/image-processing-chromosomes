{
 "cells": [
  {
   "cell_type": "code",
   "execution_count": 1,
   "metadata": {},
   "outputs": [],
   "source": [
    "import cv2\n",
    "import matplotlib.pyplot as plt\n",
    "import numpy as np\n",
    "from pathlib import Path"
   ]
  },
  {
   "cell_type": "markdown",
   "metadata": {},
   "source": [
    "### Originals image path"
   ]
  },
  {
   "cell_type": "code",
   "execution_count": 2,
   "metadata": {},
   "outputs": [],
   "source": [
    "path = Path('database/originals')"
   ]
  },
  {
   "cell_type": "markdown",
   "metadata": {},
   "source": [
    "### HSV, YCrCb and LAB paths "
   ]
  },
  {
   "cell_type": "code",
   "execution_count": 3,
   "metadata": {},
   "outputs": [],
   "source": [
    "HSV_path = 'tests/HSV'\n",
    "Path(HSV_path).mkdir(parents=True, exist_ok=True)\n",
    "\n",
    "YCrCb_path = 'tests/YCrCb'\n",
    "Path(YCrCb_path).mkdir(parents=True, exist_ok=True)\n",
    "\n",
    "LAB_path = 'tests/LAB'\n",
    "Path(LAB_path).mkdir(parents=True, exist_ok=True)\n",
    "\n",
    "RGB_path = 'tests/RGB'\n",
    "Path(RGB_path).mkdir(parents=True, exist_ok=True)"
   ]
  },
  {
   "cell_type": "markdown",
   "metadata": {},
   "source": [
    "### Convert BGR images to HSV/YCrCb/LAB "
   ]
  },
  {
   "cell_type": "code",
   "execution_count": 4,
   "metadata": {},
   "outputs": [],
   "source": [
    "def other_colors(file, HSV_path, YCrCb_path, LAB_path, RGB_path): \n",
    "    image = cv2.imread(str(file))\n",
    "    \n",
    "    hsv = cv2.cvtColor(image, cv2.COLOR_BGR2HSV)\n",
    "    ycrcb = cv2.cvtColor(image, cv2.COLOR_BGR2YCrCb)\n",
    "    lab = cv2.cvtColor(image, cv2.COLOR_BGR2LAB)\n",
    "\n",
    "    cv2.imwrite(HSV_path + '/' + file.name, hsv)\n",
    "    cv2.imwrite(YCrCb_path + '/' + file.name, ycrcb)\n",
    "    cv2.imwrite(LAB_path + '/' + file.name, lab)\n",
    "    \n",
    "    name = file.name.split('.')[0]\n",
    "    \n",
    "    h, s, v = cv2.split(hsv)\n",
    "    cv2.imwrite(HSV_path + '/' + name + '_h.jpg', h)\n",
    "    cv2.imwrite(HSV_path + '/' + name + '_s.jpg', s)\n",
    "    cv2.imwrite(HSV_path + '/' + name + '_v.jpg', v)\n",
    "\n",
    "    y, cr, cb = cv2.split(ycrcb)\n",
    "    cv2.imwrite(YCrCb_path + '/' + name + '_y.jpg', y)\n",
    "    cv2.imwrite(YCrCb_path + '/' + name + '_cr.jpg', cr)\n",
    "    cv2.imwrite(YCrCb_path + '/' + name + '_cb.jpg', cb)\n",
    "\n",
    "    l, a, b = cv2.split(ycrcb)\n",
    "    cv2.imwrite(LAB_path + '/' + name + '_l.jpg', l)\n",
    "    cv2.imwrite(LAB_path + '/' + name + '_a.jpg', a)\n",
    "    cv2.imwrite(LAB_path + '/' + name + '_b.jpg', b)\n",
    "    \n",
    "    b, g, r = cv2.split(image)\n",
    "    cv2.imwrite(RGB_path + '/' + name + '_b.jpg', b)\n",
    "    cv2.imwrite(RGB_path + '/' + name + '_g.jpg', g)\n",
    "    cv2.imwrite(RGB_path + '/' + name + '_r.jpg', r)\n"
   ]
  },
  {
   "cell_type": "code",
   "execution_count": 5,
   "metadata": {},
   "outputs": [],
   "source": [
    "files = [file for file in path.iterdir() if file.is_file()]"
   ]
  },
  {
   "cell_type": "code",
   "execution_count": 6,
   "metadata": {},
   "outputs": [],
   "source": [
    "for file in files:\n",
    "    other_colors(file, HSV_path, YCrCb_path, LAB_path, RGB_path)"
   ]
  },
  {
   "cell_type": "markdown",
   "metadata": {},
   "source": [
    "### Changing the contrast and brightness of the image - OP 1\n",
    "\n",
    "Ref:\n",
    "- https://docs.opencv.org/3.4/d3/dc1/tutorial_basic_linear_transform.html\n",
    "- https://docs.opencv.org/2.4/modules/core/doc/operations_on_arrays.html#convertscaleabs"
   ]
  },
  {
   "cell_type": "code",
   "execution_count": 7,
   "metadata": {},
   "outputs": [],
   "source": [
    "LAB_contraste_lum_path = 'tests/LAB_contraste_luminosidade'\n",
    "Path(LAB_contraste_lum_path).mkdir(parents=True, exist_ok=True)\n",
    "\n",
    "RGB_contraste_lum_path = 'tests/RGB_contraste_luminosidade'\n",
    "Path(RGB_contraste_lum_path).mkdir(parents=True, exist_ok=True)\n",
    "\n",
    "YCrCb_contraste_lum_path = 'tests/YCrCb_contraste_luminosidade'\n",
    "Path(YCrCb_contraste_lum_path).mkdir(parents=True, exist_ok=True)"
   ]
  },
  {
   "cell_type": "code",
   "execution_count": 8,
   "metadata": {},
   "outputs": [],
   "source": [
    "alpha = 1.5 # Contrast control (1.0-3.0)\n",
    "beta = -80 # Brightness control (0-100)\n",
    "\n",
    "for file in files:\n",
    "    image = cv2.imread(str(file))\n",
    "    name = file.name.split('.')[0]\n",
    "    \n",
    "    lab= cv2.cvtColor(image, cv2.COLOR_BGR2LAB)\n",
    "    l, a, b = cv2.split(lab)\n",
    "    \n",
    "    lnew = cv2.convertScaleAbs(l, alpha=alpha, beta=beta)\n",
    "    \n",
    "    limg = cv2.merge((lnew,a,b))\n",
    "    cv2.imwrite(LAB_contraste_lum_path + '/' + name + '_l.jpg', lnew)\n",
    "    cv2.imwrite(LAB_contraste_lum_path + '/' + name + '.jpg', limg)\n",
    "    \n",
    "    final = cv2.cvtColor(limg, cv2.COLOR_LAB2BGR)\n",
    "    cv2.imwrite(RGB_contraste_lum_path + '/' + name + '.jpg', final)\n",
    "    \n",
    "    b, g, r = cv2.split(final)\n",
    "    cv2.imwrite(RGB_contraste_lum_path + '/' + name + '_b.jpg', b)\n",
    "    cv2.imwrite(RGB_contraste_lum_path + '/' + name + '_g.jpg', g)\n",
    "    cv2.imwrite(RGB_contraste_lum_path + '/' + name + '_r.jpg', r)\n",
    "    \n",
    "    final = cv2.cvtColor(final, cv2.COLOR_RGB2YCrCb)\n",
    "    cv2.imwrite(YCrCb_contraste_lum_path + '/' + name + '.jpg', final)\n",
    "    \n",
    "    y, cr, cb = cv2.split(final)\n",
    "    cv2.imwrite(YCrCb_contraste_lum_path + '/' + name + '_y.jpg', y)\n",
    "    cv2.imwrite(YCrCb_contraste_lum_path + '/' + name + '_cr.jpg', cr)\n",
    "    cv2.imwrite(YCrCb_contraste_lum_path + '/' + name + '_cb.jpg', cb)"
   ]
  },
  {
   "cell_type": "markdown",
   "metadata": {},
   "source": [
    "### Changing the contrast of the image - OP 2\n",
    "Ref https://stackoverflow.com/a/41075028"
   ]
  },
  {
   "cell_type": "code",
   "execution_count": 9,
   "metadata": {},
   "outputs": [],
   "source": [
    "LAB_contraste_path = 'tests/LAB_contraste'\n",
    "Path(LAB_contraste_path).mkdir(parents=True, exist_ok=True)\n",
    "\n",
    "RGB_contraste_path = 'tests/RGB_contraste'\n",
    "Path(RGB_contraste_path).mkdir(parents=True, exist_ok=True)\n",
    "\n",
    "YCrCb_contraste_path = 'tests/YCrCb_contraste'\n",
    "Path(YCrCb_contraste_path).mkdir(parents=True, exist_ok=True)"
   ]
  },
  {
   "cell_type": "code",
   "execution_count": 10,
   "metadata": {},
   "outputs": [],
   "source": [
    "for file in files:\n",
    "    image = cv2.imread(str(file))\n",
    "    name = file.name.split('.')[0]\n",
    "    \n",
    "    lab= cv2.cvtColor(image, cv2.COLOR_BGR2LAB)\n",
    "    l, a, b = cv2.split(lab)\n",
    "    \n",
    "    clahe = cv2.createCLAHE(clipLimit=3.0, tileGridSize=(8,8))\n",
    "    cl = clahe.apply(l)\n",
    "    \n",
    "    #-----Merge the CLAHE enhanced L-channel with the a and b channel-----------\n",
    "    limg = cv2.merge((cl,a,b))\n",
    "    cv2.imwrite(LAB_contraste_path + '/' + name + '_l.jpg', cl)\n",
    "    cv2.imwrite(LAB_contraste_path + '/' + name + '.jpg', limg)\n",
    "    \n",
    "    final = cv2.cvtColor(limg, cv2.COLOR_LAB2BGR)\n",
    "    cv2.imwrite(RGB_contraste_path + '/' + name + '.jpg', final)\n",
    "    \n",
    "    b, g, r = cv2.split(final)\n",
    "    cv2.imwrite(RGB_contraste_path + '/' + name + '_b.jpg', b)\n",
    "    cv2.imwrite(RGB_contraste_path + '/' + name + '_g.jpg', g)\n",
    "    cv2.imwrite(RGB_contraste_path + '/' + name + '_r.jpg', r)\n",
    "    \n",
    "    final = cv2.cvtColor(final, cv2.COLOR_RGB2YCrCb)\n",
    "    cv2.imwrite(YCrCb_contraste_lum_path + '/' + name + '.jpg', final)\n",
    "    \n",
    "    y, cr, cb = cv2.split(final)\n",
    "    cv2.imwrite(YCrCb_contraste_path + '/' + name + '_y.jpg', y)\n",
    "    cv2.imwrite(YCrCb_contraste_path + '/' + name + '_cr.jpg', cr)\n",
    "    cv2.imwrite(YCrCb_contraste_path + '/' + name + '_cb.jpg', cb)"
   ]
  },
  {
   "cell_type": "markdown",
   "metadata": {},
   "source": [
    "### Get LAB images"
   ]
  },
  {
   "cell_type": "code",
   "execution_count": 11,
   "metadata": {},
   "outputs": [],
   "source": [
    "LAB_thresh_path = 'tests/LAB_thresh'\n",
    "Path(LAB_thresh_path).mkdir(parents=True, exist_ok=True)\n",
    "\n",
    "LAB_thresh_l_path = 'tests/LAB_l_thresh'\n",
    "Path(LAB_thresh_l_path).mkdir(parents=True, exist_ok=True)"
   ]
  },
  {
   "cell_type": "markdown",
   "metadata": {},
   "source": [
    "LAB with higer contrast"
   ]
  },
  {
   "cell_type": "code",
   "execution_count": 12,
   "metadata": {},
   "outputs": [],
   "source": [
    "path_lab = Path(LAB_contraste_lum_path)"
   ]
  },
  {
   "cell_type": "code",
   "execution_count": 13,
   "metadata": {},
   "outputs": [],
   "source": [
    "files_lab = [file for file in path_lab.iterdir() if file.is_file()]"
   ]
  },
  {
   "cell_type": "markdown",
   "metadata": {},
   "source": [
    "### With the LAB image to threshold"
   ]
  },
  {
   "cell_type": "code",
   "execution_count": 14,
   "metadata": {},
   "outputs": [],
   "source": [
    "for file in files_lab:\n",
    "    image = cv2.imread(str(file))\n",
    "    \n",
    "    result_gray = cv2.cvtColor(image, cv2.COLOR_BGR2GRAY)\n",
    "\n",
    "    _,thresh = cv2.threshold(result_gray,0,255,cv2.THRESH_BINARY_INV+cv2.THRESH_OTSU)\n",
    "    \n",
    "    cnts,_ = cv2.findContours(thresh, 1, 2)\n",
    "    \n",
    "    cp = image.copy()\n",
    "    \n",
    "    for cnt in cnts:\n",
    "        area = cv2.contourArea(cnt)\n",
    "        \n",
    "        if area > 10 and area < 20000:\n",
    "            rect = cv2.minAreaRect(cnt)\n",
    "            box = cv2.boxPoints(rect)\n",
    "            box = np.int0(box)\n",
    "            cp = cv2.drawContours(cp, [box],-1,(0,0,255),2)\n",
    "    \n",
    "    if '_l' in file.name:\n",
    "        name = file.name.replace('_l', '')\n",
    "        cv2.imwrite(LAB_thresh_l_path + '/' + name, thresh)\n",
    "        cv2.imwrite(LAB_thresh_l_path + '/cp_' + name, cp)\n",
    "    else:\n",
    "        cv2.imwrite(LAB_thresh_path + '/' + file.name, thresh)\n",
    "        cv2.imwrite(LAB_thresh_path + '/cp_' + file.name, cp)"
   ]
  },
  {
   "cell_type": "markdown",
   "metadata": {},
   "source": [
    "### Get RGB images"
   ]
  },
  {
   "cell_type": "code",
   "execution_count": 15,
   "metadata": {},
   "outputs": [],
   "source": [
    "RGB_thresh_pos_path = 'tests/RGB_g_thresh_pos_processamento'\n",
    "Path(RGB_thresh_pos_path).mkdir(parents=True, exist_ok=True)\n",
    "\n",
    "RGB_thresh_path = 'tests/RGB_g_thresh'\n",
    "Path(RGB_thresh_path).mkdir(parents=True, exist_ok=True)"
   ]
  },
  {
   "cell_type": "code",
   "execution_count": 16,
   "metadata": {},
   "outputs": [],
   "source": [
    "path_rgb = Path(RGB_contraste_path)"
   ]
  },
  {
   "cell_type": "code",
   "execution_count": 17,
   "metadata": {},
   "outputs": [],
   "source": [
    "files_rgb = [file for file in path_rgb.iterdir() if file.is_file() and '_g' in file.name]"
   ]
  },
  {
   "cell_type": "markdown",
   "metadata": {},
   "source": [
    "### With RGB images"
   ]
  },
  {
   "cell_type": "code",
   "execution_count": 18,
   "metadata": {},
   "outputs": [],
   "source": [
    "for file in files_rgb:\n",
    "    image = cv2.imread(str(file))\n",
    "    name = file.name.replace('_g', '')\n",
    "    \n",
    "    result_gray = cv2.cvtColor(image, cv2.COLOR_BGR2GRAY)\n",
    "\n",
    "    _,thresh = cv2.threshold(result_gray,0,255,cv2.THRESH_BINARY_INV+cv2.THRESH_OTSU)\n",
    "    \n",
    "    kernel = np.ones((3, 3), np.uint8) \n",
    "    thresh = cv2.dilate(thresh, kernel, iterations=1)\n",
    "    cv2.imwrite(RGB_thresh_path + '/' + name, thresh)\n",
    "    \n",
    "    cnts,_ = cv2.findContours(thresh, 1, 2)\n",
    "    \n",
    "    cp = image.copy()\n",
    "    \n",
    "    for cnt in cnts:\n",
    "        area = cv2.contourArea(cnt)\n",
    "        \n",
    "        if area >= 10 and area < 80000:\n",
    "            rect = cv2.minAreaRect(cnt)\n",
    "            box = cv2.boxPoints(rect)\n",
    "            box = np.int0(box)\n",
    "            cp = cv2.drawContours(cp, [box],0,(0,0,255),2)\n",
    "            \n",
    "        if area > 80000 and area < 7000000:\n",
    "            thresh = cv2.drawContours(thresh, [cnt],0,(0,0,0),thickness=-1)\n",
    "    \n",
    "    cv2.imwrite(RGB_thresh_pos_path + '/' + name, thresh)\n",
    "    cv2.imwrite(RGB_thresh_path + '/cp_' + name, cp)"
   ]
  },
  {
   "cell_type": "markdown",
   "metadata": {},
   "source": [
    "### Segmentação adaptativa"
   ]
  },
  {
   "cell_type": "code",
   "execution_count": 19,
   "metadata": {},
   "outputs": [],
   "source": [
    "RGB_thresh_path = 'tests/RGB_g_thresh_adap'\n",
    "Path(RGB_thresh_path).mkdir(parents=True, exist_ok=True)"
   ]
  },
  {
   "cell_type": "code",
   "execution_count": 20,
   "metadata": {},
   "outputs": [],
   "source": [
    "path_rgb = Path(RGB_contraste_path)"
   ]
  },
  {
   "cell_type": "code",
   "execution_count": 21,
   "metadata": {},
   "outputs": [],
   "source": [
    "files_rgb = [file for file in path_rgb.iterdir() if file.is_file() and '_g' in file.name]"
   ]
  },
  {
   "cell_type": "code",
   "execution_count": 22,
   "metadata": {},
   "outputs": [],
   "source": [
    "for file in files_rgb:\n",
    "    image = cv2.imread(str(file))\n",
    "    name = file.name.replace('_g', '')\n",
    "    \n",
    "    result_gray = cv2.cvtColor(image, cv2.COLOR_BGR2GRAY)\n",
    "    result_gray = cv2.medianBlur(result_gray, 11)\n",
    "\n",
    "    thresh = cv2.adaptiveThreshold(result_gray,255,cv2.ADAPTIVE_THRESH_MEAN_C,\\\n",
    "                                   cv2.THRESH_BINARY_INV,17,3)\n",
    "    cv2.imwrite(RGB_thresh_path + '/' + name, thresh)\n",
    "\n",
    "    cnts,_ = cv2.findContours(thresh, 1, 2)\n",
    "    \n",
    "    cp = image.copy()\n",
    "    \n",
    "    for cnt in cnts:\n",
    "        area = cv2.contourArea(cnt)\n",
    "        \n",
    "        if area > 10 and area < 20000:\n",
    "            rect = cv2.minAreaRect(cnt)\n",
    "            box = cv2.boxPoints(rect)\n",
    "            box = np.int0(box)\n",
    "            cp = cv2.drawContours(cp, [box],0,(0,0,255),2)\n",
    "            \n",
    "    cv2.imwrite(RGB_thresh_path + '/cp_' + name, cp)"
   ]
  },
  {
   "cell_type": "markdown",
   "metadata": {},
   "source": [
    "### Get YCrCB images"
   ]
  },
  {
   "cell_type": "code",
   "execution_count": 23,
   "metadata": {},
   "outputs": [],
   "source": [
    "YCRCB_thresh_path = 'tests/YCRCB_thresh_adap'\n",
    "Path(YCRCB_thresh_path).mkdir(parents=True, exist_ok=True)\n",
    "\n",
    "YCRCB_y_thresh_path = 'tests/YCRCB_y_thresh_adap'\n",
    "Path(YCRCB_y_thresh_path).mkdir(parents=True, exist_ok=True)\n",
    "\n",
    "YCRCB_thresh_otsu_path = 'tests/YCRCB_thresh_otsu'\n",
    "Path(YCRCB_thresh_otsu_path).mkdir(parents=True, exist_ok=True)\n",
    "\n",
    "YCRCB_y_thresh_otsu_path = 'tests/YCRCB_y_thresh_otsu'\n",
    "Path(YCRCB_y_thresh_otsu_path).mkdir(parents=True, exist_ok=True)"
   ]
  },
  {
   "cell_type": "code",
   "execution_count": 24,
   "metadata": {},
   "outputs": [],
   "source": [
    "path_crcb = Path('tests/YCrCb')\n",
    "files_crcb = [file for file in path_crcb.iterdir() if file.is_file()]"
   ]
  },
  {
   "cell_type": "code",
   "execution_count": 25,
   "metadata": {},
   "outputs": [],
   "source": [
    "for file in files_crcb:\n",
    "    image = cv2.imread(str(file))\n",
    "    \n",
    "    result_gray = cv2.cvtColor(image, cv2.COLOR_BGR2GRAY)\n",
    "    result_gray = cv2.medianBlur(result_gray, 11)\n",
    "\n",
    "    thresh_adap = cv2.adaptiveThreshold(result_gray,255,cv2.ADAPTIVE_THRESH_MEAN_C,\\\n",
    "                                        cv2.THRESH_BINARY_INV,17,3)\n",
    "    _,thresh_otsu = cv2.threshold(result_gray,0,255,cv2.THRESH_BINARY+cv2.THRESH_OTSU)\n",
    "    \n",
    "    if '_y' in file.name:\n",
    "        name = file.name.replace('_y', '')\n",
    "        cv2.imwrite(YCRCB_y_thresh_path + '/' + name, thresh_adap)\n",
    "        cv2.imwrite(YCRCB_y_thresh_otsu_path + '/' + name, thresh_otsu)\n",
    "    elif '_' not in file.name:\n",
    "        cv2.imwrite(YCRCB_thresh_path + '/' + file.name, thresh_adap)\n",
    "        cv2.imwrite(YCRCB_thresh_otsu_path + '/' + file.name, thresh_otsu)\n"
   ]
  },
  {
   "cell_type": "code",
   "execution_count": null,
   "metadata": {},
   "outputs": [],
   "source": []
  }
 ],
 "metadata": {
  "kernelspec": {
   "display_name": "Python 3",
   "language": "python",
   "name": "python3"
  },
  "language_info": {
   "codemirror_mode": {
    "name": "ipython",
    "version": 3
   },
   "file_extension": ".py",
   "mimetype": "text/x-python",
   "name": "python",
   "nbconvert_exporter": "python",
   "pygments_lexer": "ipython3",
   "version": "3.7.4"
  }
 },
 "nbformat": 4,
 "nbformat_minor": 2
}

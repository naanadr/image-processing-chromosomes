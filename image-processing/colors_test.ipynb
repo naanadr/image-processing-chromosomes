{
 "cells": [
  {
   "cell_type": "code",
   "execution_count": 21,
   "metadata": {},
   "outputs": [],
   "source": [
    "import cv2\n",
    "import matplotlib.pyplot as plt\n",
    "import numpy as np\n",
    "from pathlib import Path"
   ]
  },
  {
   "cell_type": "markdown",
   "metadata": {},
   "source": [
    "### Originals image path"
   ]
  },
  {
   "cell_type": "code",
   "execution_count": 3,
   "metadata": {},
   "outputs": [],
   "source": [
    "path = Path('database/originals')"
   ]
  },
  {
   "cell_type": "markdown",
   "metadata": {},
   "source": [
    "### HSV, YCrCb and LAB paths "
   ]
  },
  {
   "cell_type": "code",
   "execution_count": 167,
   "metadata": {},
   "outputs": [],
   "source": [
    "HSV_path = 'tests/HSV'\n",
    "Path(HSV_path).mkdir(parents=True, exist_ok=True)\n",
    "\n",
    "YCrCb_path = 'tests/YCrCb'\n",
    "Path(YCrCb_path).mkdir(parents=True, exist_ok=True)\n",
    "\n",
    "LAB_path = 'tests/LAB'\n",
    "Path(LAB_path).mkdir(parents=True, exist_ok=True)"
   ]
  },
  {
   "cell_type": "markdown",
   "metadata": {},
   "source": [
    "### Convert BGR images to HSV/YCrCb/LAB "
   ]
  },
  {
   "cell_type": "code",
   "execution_count": 168,
   "metadata": {},
   "outputs": [],
   "source": [
    "def other_colors(file, HSV_path, YCrCb_path, LAB_path): \n",
    "    image = cv2.imread(file.__str__())\n",
    "    \n",
    "    hsv = cv2.cvtColor(image, cv2.COLOR_BGR2HSV)\n",
    "    ycrcb = cv2.cvtColor(image, cv2.COLOR_BGR2YCrCb)\n",
    "    lab = cv2.cvtColor(image, cv2.COLOR_BGR2LAB)\n",
    "\n",
    "    cv2.imwrite(HSV_path + '/' + file.name, hsv)\n",
    "    cv2.imwrite(YCrCb_path + '/' + file.name, ycrcb)\n",
    "    cv2.imwrite(LAB_path + '/' + file.name, lab)\n",
    "    \n",
    "    name = file.name.split('.')[0]\n",
    "    \n",
    "    h, s, v = cv2.split(hsv)\n",
    "    cv2.imwrite(HSV_path + '/' + name + '_h.jpg', h)\n",
    "    cv2.imwrite(HSV_path + '/' + name + '_s.jpg', s)\n",
    "    cv2.imwrite(HSV_path + '/' + name + '_v.jpg', v)\n",
    "\n",
    "    y, cr, cb = cv2.split(ycrcb)\n",
    "    cv2.imwrite(YCrCb_path + '/' + name + '_y.jpg', y)\n",
    "    cv2.imwrite(YCrCb_path + '/' + name + '_cr.jpg', cr)\n",
    "    cv2.imwrite(YCrCb_path + '/' + name + '_cb.jpg', cb)\n",
    "\n",
    "    l, a, b = cv2.split(ycrcb)\n",
    "    cv2.imwrite(LAB_path + '/' + name + '_l.jpg', l)\n",
    "    cv2.imwrite(LAB_path + '/' + name + '_a.jpg', a)\n",
    "    cv2.imwrite(LAB_path + '/' + name + '_b.jpg', b)\n"
   ]
  },
  {
   "cell_type": "code",
   "execution_count": 169,
   "metadata": {},
   "outputs": [],
   "source": [
    "files = [file for file in path.iterdir() if file.is_file()]\n",
    "\n",
    "for file in files:\n",
    "    other_colors(file, HSV_path, YCrCb_path, LAB_path)"
   ]
  },
  {
   "cell_type": "markdown",
   "metadata": {},
   "source": [
    "### Get LAB images"
   ]
  },
  {
   "cell_type": "code",
   "execution_count": 170,
   "metadata": {},
   "outputs": [],
   "source": [
    "LAB_thresh_path = 'tests/LAB_thresh'\n",
    "Path(LAB_thresh_path).mkdir(parents=True, exist_ok=True)"
   ]
  },
  {
   "cell_type": "code",
   "execution_count": 7,
   "metadata": {},
   "outputs": [],
   "source": [
    "path_lab = Path(LAB_path)"
   ]
  },
  {
   "cell_type": "code",
   "execution_count": 8,
   "metadata": {},
   "outputs": [],
   "source": [
    "files_lab = [file for file in path_lab.iterdir() if file.is_file() and '_' not in file.name]"
   ]
  },
  {
   "cell_type": "markdown",
   "metadata": {},
   "source": [
    "### Colors range"
   ]
  },
  {
   "cell_type": "code",
   "execution_count": 196,
   "metadata": {},
   "outputs": [
    {
     "data": {
      "image/png": "[encoded data removed]",
      "text/plain": [
       "<Figure size 432x288 with 2 Axes>"
      ]
     },
     "metadata": {
      "needs_background": "light"
     },
     "output_type": "display_data"
    }
   ],
   "source": [
    "lower = np.array([90,50,50])\n",
    "upper = np.array([130,255,255])\n",
    "\n",
    "lo_square = np.full((10, 10, 3), lower, dtype=np.uint8) / 255.0\n",
    "do_square = np.full((10, 10, 3), upper, dtype=np.uint8) / 255.0\n",
    "\n",
    "plt.subplot(1, 2, 1)\n",
    "plt.imshow(lo_square)\n",
    "plt.subplot(1, 2, 2)\n",
    "plt.imshow(do_square)\n",
    "plt.show()"
   ]
  },
  {
   "cell_type": "markdown",
   "metadata": {},
   "source": [
    "### With the LAB image, remove regions beyond the color (using the previous color range)"
   ]
  },
  {
   "cell_type": "code",
   "execution_count": 210,
   "metadata": {},
   "outputs": [],
   "source": [
    "import math\n",
    "\n",
    "\n",
    "def euclideanDistance(instance1, instance2, length):\n",
    "    distance = 0\n",
    "    \n",
    "    for x in range(length):\n",
    "        distance += pow((instance1[x] - instance2[x]), 2)\n",
    "    \n",
    "    return math.sqrt(distance)"
   ]
  },
  {
   "cell_type": "code",
   "execution_count": 240,
   "metadata": {},
   "outputs": [],
   "source": [
    "import operator \n",
    "\n",
    "\n",
    "def getNeighbors(trainingSet, testInstance, k, maxDist):\n",
    "    distances = []\n",
    "    length = len(testInstance)\n",
    "\n",
    "    for x in range(len(trainingSet)):\n",
    "        dist = euclideanDistance(testInstance, trainingSet[x], length)\n",
    "        distances.append((trainingSet[x], dist))\n",
    "  \n",
    "    distances.sort(key=operator.itemgetter(1))\n",
    "    neighbors = []\n",
    "    \n",
    "    for x in range(k):\n",
    "        if len(distances) > x:\n",
    "            if distances[x][1] < maxDist+1: \n",
    "                neighbors.append(distances[x][0])\n",
    "    \n",
    "    return neighbors"
   ]
  },
  {
   "cell_type": "code",
   "execution_count": 245,
   "metadata": {},
   "outputs": [],
   "source": [
    "def remove_isolated_regions(image, points, k=5, maxDist=300):\n",
    "    cp = image.copy()\n",
    "    coord = [p[0:2] for p in points]\n",
    "    \n",
    "    for i, c in enumerate(coord):\n",
    "        neighbors = getNeighbors(coord, c, k, maxDist)\n",
    "        neighbors = len(neighbors)\n",
    "        if (neighbors >= k):\n",
    "            cv2.rectangle(cp, (points[i][0],points[i][1]),\n",
    "                          (points[i][0]+points[i][2],\n",
    "                           points[i][1]+points[i][3]),(255,0,0),2)\n",
    "    \n",
    "    return cp"
   ]
  },
  {
   "cell_type": "code",
   "execution_count": 247,
   "metadata": {},
   "outputs": [],
   "source": [
    "for file in files_lab:\n",
    "    image = cv2.imread(file.__str__())\n",
    "    \n",
    "    mask = cv2.inRange(image, lower, upper)\n",
    "    \n",
    "    result = cv2.bitwise_and(image, image, mask=mask)    \n",
    "    result_gray = cv2.cvtColor(result, cv2.COLOR_BGR2GRAY)\n",
    "    \n",
    "    _,thresh = cv2.threshold(result_gray,0,255,cv2.THRESH_BINARY)\n",
    "    cv2.imwrite(LAB_thresh_path + '/' + file.name, thresh)\n",
    "    \n",
    "    cnts,_ = cv2.findContours(thresh, 1, 2)\n",
    "    \n",
    "    points = []\n",
    "    cp = image.copy()\n",
    "    \n",
    "    for cnt in cnts:\n",
    "        area = cv2.contourArea(cnt)\n",
    "        \n",
    "        if area > 20:\n",
    "            x,y,w,h = cv2.boundingRect(cnt)\n",
    "            points.append([x, y, w, h])\n",
    "    \n",
    "    cp = remove_isolated_regions(image, points)    \n",
    "            \n",
    "    cv2.imwrite(LAB_thresh_path + '/cp_' + file.name, cp)"
   ]
  }
 ],
 "metadata": {
  "kernelspec": {
   "display_name": "Python 3",
   "language": "python",
   "name": "python3"
  },
  "language_info": {
   "codemirror_mode": {
    "name": "ipython",
    "version": 3
   },
   "file_extension": ".py",
   "mimetype": "text/x-python",
   "name": "python",
   "nbconvert_exporter": "python",
   "pygments_lexer": "ipython3",
   "version": "3.7.4"
  }
 },
 "nbformat": 4,
 "nbformat_minor": 2
}
